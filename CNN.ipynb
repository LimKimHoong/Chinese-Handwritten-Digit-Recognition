{
 "cells": [
  {
   "cell_type": "markdown",
   "id": "6ee3f544",
   "metadata": {},
   "source": [
    "## Ignore Warnings"
   ]
  },
  {
   "cell_type": "code",
   "execution_count": 1,
   "id": "302618dd",
   "metadata": {},
   "outputs": [],
   "source": [
    "import warnings\n",
    "\n",
    "def fxn():\n",
    "    warnings.warn(\"deprecated\", DeprecationWarning)\n",
    "\n",
    "with warnings.catch_warnings():\n",
    "    warnings.simplefilter(\"ignore\")\n",
    "    fxn()"
   ]
  },
  {
   "cell_type": "markdown",
   "id": "48d1fceb",
   "metadata": {},
   "source": [
    "## Import Libraries"
   ]
  },
  {
   "cell_type": "code",
   "execution_count": 2,
   "id": "984d2e37-4754-400c-9af0-10f38209614a",
   "metadata": {},
   "outputs": [],
   "source": [
    "import numpy as np\n",
    "import os\n",
    "import PIL\n",
    "import PIL.Image\n",
    "import matplotlib.pyplot as plt\n",
    "import seaborn as sns\n",
    "\n",
    "import tensorflow as tf\n",
    "from tensorflow import keras\n",
    "from tensorflow.keras import layers\n",
    "from tensorflow.keras.models import Sequential\n",
    "\n",
    "from tensorflow.keras.applications.imagenet_utils import preprocess_input, decode_predictions\n",
    "from tensorflow.keras.preprocessing import image_dataset_from_directory\n",
    "from tensorflow.keras.preprocessing.image import ImageDataGenerator\n",
    "from tensorflow.keras.models import load_model\n",
    "from tensorflow.keras.preprocessing import image\n",
    "from tensorflow.keras.layers import InputLayer, BatchNormalization, Dropout, Flatten, Dense, Activation, MaxPool2D, Conv2D\n",
    "\n",
    "import time\n",
    "import platform "
   ]
  },
  {
   "cell_type": "markdown",
   "id": "672792f0",
   "metadata": {},
   "source": [
    "## System Perference Checking"
   ]
  },
  {
   "cell_type": "code",
   "execution_count": 3,
   "id": "bbac625c",
   "metadata": {},
   "outputs": [
    {
     "name": "stdout",
     "output_type": "stream",
     "text": [
      "arm64\n",
      "Darwin Kernel Version 22.3.0: Thu Jan  5 20:50:21 PST 2023; root:xnu-8792.81.2~2/RELEASE_ARM64_T8112\n",
      "arm\n"
     ]
    }
   ],
   "source": [
    "print(platform.machine())\n",
    "print(platform.version())\n",
    "print(platform.processor())"
   ]
  },
  {
   "cell_type": "markdown",
   "id": "189ebf08",
   "metadata": {},
   "source": [
    "## Splitting Dataset into 80-20 "
   ]
  },
  {
   "cell_type": "code",
   "execution_count": 4,
   "id": "66018637-a3af-4c1b-81a7-af9f45b1aef9",
   "metadata": {},
   "outputs": [
    {
     "name": "stdout",
     "output_type": "stream",
     "text": [
      "Found 15000 files belonging to 15 classes.\n",
      "Using 12000 files for training.\n",
      "Metal device set to: Apple M2\n"
     ]
    },
    {
     "name": "stderr",
     "output_type": "stream",
     "text": [
      "2023-02-06 18:43:14.056006: I tensorflow/core/common_runtime/pluggable_device/pluggable_device_factory.cc:306] Could not identify NUMA node of platform GPU ID 0, defaulting to 0. Your kernel may not have been built with NUMA support.\n",
      "2023-02-06 18:43:14.056038: I tensorflow/core/common_runtime/pluggable_device/pluggable_device_factory.cc:272] Created TensorFlow device (/job:localhost/replica:0/task:0/device:GPU:0 with 0 MB memory) -> physical PluggableDevice (device: 0, name: METAL, pci bus id: <undefined>)\n"
     ]
    },
    {
     "name": "stdout",
     "output_type": "stream",
     "text": [
      "Found 15000 files belonging to 15 classes.\n",
      "Using 3000 files for validation.\n"
     ]
    }
   ],
   "source": [
    "batch_size = 32\n",
    "img_height = 64\n",
    "img_width = 64\n",
    "data_dir = \"processed/\"\n",
    "\n",
    "train_ds = tf.keras.utils.image_dataset_from_directory(\n",
    "  data_dir,\n",
    "  validation_split=0.2,\n",
    "  subset=\"training\",\n",
    "  shuffle = True, \n",
    "  seed=123,\n",
    "  image_size=(img_height, img_width),\n",
    "  batch_size=batch_size,\n",
    "    color_mode='grayscale')\n",
    "\n",
    "val_ds = tf.keras.utils.image_dataset_from_directory(\n",
    "  data_dir,\n",
    "  validation_split=0.2,\n",
    "  subset=\"validation\",\n",
    "  shuffle = True, \n",
    "  seed=123,\n",
    "  image_size=(img_height, img_width),\n",
    "  batch_size=batch_size,\n",
    "    color_mode='grayscale')"
   ]
  },
  {
   "cell_type": "code",
   "execution_count": 5,
   "id": "3259e13d-2ffc-46a8-98e3-a227992af1e8",
   "metadata": {},
   "outputs": [
    {
     "name": "stdout",
     "output_type": "stream",
     "text": [
      "['0', '1', '10', '100', '1000', '10000', '100000000', '2', '3', '4', '5', '6', '7', '8', '9']\n",
      "['0', '1', '10', '100', '1000', '10000', '100000000', '2', '3', '4', '5', '6', '7', '8', '9']\n"
     ]
    }
   ],
   "source": [
    "class_names = train_ds.class_names\n",
    "print(class_names)\n",
    "class_names = val_ds.class_names\n",
    "print(class_names)"
   ]
  },
  {
   "cell_type": "markdown",
   "id": "7e025904",
   "metadata": {},
   "source": [
    "## Initial Examine of Our Dataset"
   ]
  },
  {
   "cell_type": "code",
   "execution_count": 6,
   "id": "4fbe2112-c1f4-4f7c-837d-82a194f5280a",
   "metadata": {},
   "outputs": [
    {
     "name": "stderr",
     "output_type": "stream",
     "text": [
      "2023-02-06 18:43:27.431048: W tensorflow/tsl/platform/profile_utils/cpu_utils.cc:128] Failed to get CPU frequency: 0 Hz\n"
     ]
    },
    {
     "data": {
      "image/png": "[encoded data removed]",
      "text/plain": [
       "<Figure size 1000x1000 with 9 Axes>"
      ]
     },
     "metadata": {},
     "output_type": "display_data"
    }
   ],
   "source": [
    "plt.figure(figsize=(10, 10))\n",
    "for images, labels in train_ds.take(1):\n",
    "  for i in range(9):\n",
    "    ax = plt.subplot(3, 3, i + 1)\n",
    "    plt.imshow(images[i+1].numpy().astype(\"uint8\"))\n",
    "    plt.title(class_names[labels[i]])\n",
    "    plt.axis(\"off\")"
   ]
  },
  {
   "cell_type": "markdown",
   "id": "afcb6fa3",
   "metadata": {},
   "source": [
    "## Simple Pre-processing"
   ]
  },
  {
   "cell_type": "code",
   "execution_count": 7,
   "id": "c4a89e61-bc09-421c-ae98-46cc4a925947",
   "metadata": {},
   "outputs": [
    {
     "name": "stdout",
     "output_type": "stream",
     "text": [
      "(32, 64, 64, 1)\n",
      "(32,)\n"
     ]
    }
   ],
   "source": [
    "for image_batch, labels_batch in train_ds:\n",
    "  print(image_batch.shape)\n",
    "  print(labels_batch.shape)\n",
    "  break\n",
    "# 3 color channels RGB"
   ]
  },
  {
   "cell_type": "code",
   "execution_count": 8,
   "id": "a4df1b3c-d00c-4b30-8523-90d93e8f6b9b",
   "metadata": {},
   "outputs": [
    {
     "name": "stdout",
     "output_type": "stream",
     "text": [
      "WARNING:tensorflow:From /Users/kimhoonglim/miniconda3/envs/tensorflow/lib/python3.10/site-packages/tensorflow/python/autograph/pyct/static_analysis/liveness.py:83: Analyzer.lamba_check (from tensorflow.python.autograph.pyct.static_analysis.liveness) is deprecated and will be removed after 2023-09-23.\n",
      "Instructions for updating:\n",
      "Lambda fuctions will be no more assumed to be used in the statement where they are used, or at least in the same block. https://github.com/tensorflow/tensorflow/issues/56089\n",
      "0.0 0.6627451\n"
     ]
    }
   ],
   "source": [
    "normalization_layer = tf.keras.layers.Rescaling(1./255)\n",
    "normalized_ds = train_ds.map(lambda x, y: (normalization_layer(x), y))\n",
    "image_batch, labels_batch = next(iter(normalized_ds))\n",
    "first_image = image_batch[0]\n",
    "# Notice the pixel values are now in `[0,1]`.\n",
    "print(np.min(first_image), np.max(first_image))"
   ]
  },
  {
   "cell_type": "code",
   "execution_count": 9,
   "id": "cb267bf6-b646-4eea-a276-954f99b5ca27",
   "metadata": {},
   "outputs": [],
   "source": [
    "# Dataset performance configuration, keep images in memory after first ieration to avoid bottleneck\n",
    "# overlaps data preprocessing and model execution while training\n",
    "AUTOTUNE = tf.data.AUTOTUNE\n",
    "\n",
    "train_ds = train_ds.cache().prefetch(buffer_size=AUTOTUNE)\n",
    "val_ds = val_ds.cache().prefetch(buffer_size=AUTOTUNE)"
   ]
  },
  {
   "cell_type": "markdown",
   "id": "eb81b0f5",
   "metadata": {},
   "source": [
    "## ResNet101"
   ]
  },
  {
   "cell_type": "code",
   "execution_count": 10,
   "id": "ac6f672b",
   "metadata": {},
   "outputs": [],
   "source": [
    "train_datagen = ImageDataGenerator(rescale = 1./255,\n",
    "                                   validation_split = 0.2)\n",
    "\n",
    "valid_datagen = ImageDataGenerator(rescale = 1./255,\n",
    "                                  validation_split = 0.2)"
   ]
  },
  {
   "cell_type": "code",
   "execution_count": 11,
   "id": "abc25731",
   "metadata": {},
   "outputs": [
    {
     "name": "stdout",
     "output_type": "stream",
     "text": [
      "Found 12000 images belonging to 15 classes.\n",
      "Found 3000 images belonging to 15 classes.\n"
     ]
    }
   ],
   "source": [
    "train_dataset = train_datagen.flow_from_directory(directory = data_dir,\n",
    "                                                   target_size = (224,224),\n",
    "                                                   class_mode = 'categorical',\n",
    "                                                   subset = 'training',\n",
    "                                                   batch_size = 32)\n",
    "\n",
    "valid_dataset = valid_datagen.flow_from_directory(directory = data_dir,\n",
    "                                                  target_size = (224,224),\n",
    "                                                  class_mode = 'categorical',\n",
    "                                                  subset = 'validation',\n",
    "                                                  batch_size = 32)"
   ]
  },
  {
   "cell_type": "code",
   "execution_count": 12,
   "id": "b08d56c2",
   "metadata": {},
   "outputs": [
    {
     "name": "stdout",
     "output_type": "stream",
     "text": [
      "Downloading data from https://storage.googleapis.com/tensorflow/keras-applications/resnet/resnet101_weights_tf_dim_ordering_tf_kernels_notop.h5\n",
      "171446536/171446536 [==============================] - 17s 0us/step\n"
     ]
    }
   ],
   "source": [
    "base_model =tf.keras.applications.ResNet101(input_shape=(224,224,3), \n",
    "                   include_top=False,\n",
    "                   weights=\"imagenet\")"
   ]
  },
  {
   "cell_type": "code",
   "execution_count": 13,
   "id": "04e86f4f",
   "metadata": {},
   "outputs": [],
   "source": [
    "for layer in base_model.layers:\n",
    "    layer.trainable=False"
   ]
  },
  {
   "cell_type": "code",
   "execution_count": 14,
   "id": "810ed4d2",
   "metadata": {},
   "outputs": [],
   "source": [
    "num_classes = len(class_names)\n",
    "\n",
    "model101=Sequential()\n",
    "model101.add(base_model)\n",
    "model101.add(Dropout(0.5))\n",
    "model101.add(Flatten())\n",
    "model101.add(BatchNormalization())\n",
    "model101.add(Dense(64,kernel_initializer='he_uniform'))\n",
    "model101.add(BatchNormalization())\n",
    "model101.add(Activation('relu'))\n",
    "model101.add(Dropout(0.5))\n",
    "model101.add(Dense(64,kernel_initializer='he_uniform'))\n",
    "model101.add(BatchNormalization())\n",
    "model101.add(Activation('relu'))\n",
    "model101.add(Dropout(0.5))\n",
    "model101.add(Dense(32,kernel_initializer='he_uniform'))\n",
    "model101.add(BatchNormalization())\n",
    "model101.add(Activation('relu'))\n",
    "model101.add(Dropout(0.5))\n",
    "model101.add(Dense(32,kernel_initializer='he_uniform'))\n",
    "model101.add(BatchNormalization())\n",
    "model101.add(Activation('relu'))\n",
    "model101.add(Dropout(0.5))\n",
    "model101.add(Dense(32,kernel_initializer='he_uniform'))\n",
    "model101.add(BatchNormalization())\n",
    "model101.add(Activation('relu'))\n",
    "model101.add(Dense(num_classes,activation='softmax'))"
   ]
  },
  {
   "cell_type": "code",
   "execution_count": 15,
   "id": "cbf9a359",
   "metadata": {},
   "outputs": [
    {
     "name": "stdout",
     "output_type": "stream",
     "text": [
      "Model: \"sequential\"\n",
      "_________________________________________________________________\n",
      " Layer (type)                Output Shape              Param #   \n",
      "=================================================================\n",
      " resnet101 (Functional)      (None, 7, 7, 2048)        42658176  \n",
      "                                                                 \n",
      " dropout (Dropout)           (None, 7, 7, 2048)        0         \n",
      "                                                                 \n",
      " flatten (Flatten)           (None, 100352)            0         \n",
      "                                                                 \n",
      " batch_normalization (BatchN  (None, 100352)           401408    \n",
      " ormalization)                                                   \n",
      "                                                                 \n",
      " dense (Dense)               (None, 64)                6422592   \n",
      "                                                                 \n",
      " batch_normalization_1 (Batc  (None, 64)               256       \n",
      " hNormalization)                                                 \n",
      "                                                                 \n",
      " activation (Activation)     (None, 64)                0         \n",
      "                                                                 \n",
      " dropout_1 (Dropout)         (None, 64)                0         \n",
      "                                                                 \n",
      " dense_1 (Dense)             (None, 64)                4160      \n",
      "                                                                 \n",
      " batch_normalization_2 (Batc  (None, 64)               256       \n",
      " hNormalization)                                                 \n",
      "                                                                 \n",
      " activation_1 (Activation)   (None, 64)                0         \n",
      "                                                                 \n",
      " dropout_2 (Dropout)         (None, 64)                0         \n",
      "                                                                 \n",
      " dense_2 (Dense)             (None, 32)                2080      \n",
      "                                                                 \n",
      " batch_normalization_3 (Batc  (None, 32)               128       \n",
      " hNormalization)                                                 \n",
      "                                                                 \n",
      " activation_2 (Activation)   (None, 32)                0         \n",
      "                                                                 \n",
      " dropout_3 (Dropout)         (None, 32)                0         \n",
      "                                                                 \n",
      " dense_3 (Dense)             (None, 32)                1056      \n",
      "                                                                 \n",
      " batch_normalization_4 (Batc  (None, 32)               128       \n",
      " hNormalization)                                                 \n",
      "                                                                 \n",
      " activation_3 (Activation)   (None, 32)                0         \n",
      "                                                                 \n",
      " dropout_4 (Dropout)         (None, 32)                0         \n",
      "                                                                 \n",
      " dense_4 (Dense)             (None, 32)                1056      \n",
      "                                                                 \n",
      " batch_normalization_5 (Batc  (None, 32)               128       \n",
      " hNormalization)                                                 \n",
      "                                                                 \n",
      " activation_4 (Activation)   (None, 32)                0         \n",
      "                                                                 \n",
      " dense_5 (Dense)             (None, 15)                495       \n",
      "                                                                 \n",
      "=================================================================\n",
      "Total params: 49,491,919\n",
      "Trainable params: 6,632,591\n",
      "Non-trainable params: 42,859,328\n",
      "_________________________________________________________________\n"
     ]
    }
   ],
   "source": [
    "model101.summary()"
   ]
  },
  {
   "cell_type": "code",
   "execution_count": 16,
   "id": "327489ce",
   "metadata": {},
   "outputs": [],
   "source": [
    "model101.compile(optimizer='adam', \n",
    "                 loss='categorical_crossentropy',\n",
    "                 metrics=['accuracy'])"
   ]
  },
  {
   "cell_type": "code",
   "execution_count": 17,
   "id": "36829c0e",
   "metadata": {},
   "outputs": [
    {
     "name": "stdout",
     "output_type": "stream",
     "text": [
      "Epoch 1/10\n"
     ]
    },
    {
     "name": "stderr",
     "output_type": "stream",
     "text": [
      "2023-02-06 18:45:23.856974: I tensorflow/core/grappler/optimizers/custom_graph_optimizer_registry.cc:114] Plugin optimizer for device_type GPU is enabled.\n",
      "2023-02-06 18:45:30.585238: W tensorflow/core/framework/op_kernel.cc:1830] OP_REQUIRES failed at xla_ops.cc:418 : NOT_FOUND: could not find registered platform with id: 0x168f7d750\n",
      "2023-02-06 18:45:30.585293: W tensorflow/core/framework/op_kernel.cc:1830] OP_REQUIRES failed at xla_ops.cc:418 : NOT_FOUND: could not find registered platform with id: 0x168f7d750\n",
      "2023-02-06 18:45:30.631901: W tensorflow/core/framework/op_kernel.cc:1830] OP_REQUIRES failed at xla_ops.cc:418 : NOT_FOUND: could not find registered platform with id: 0x168f7d750\n",
      "2023-02-06 18:45:30.763142: W tensorflow/core/framework/op_kernel.cc:1830] OP_REQUIRES failed at xla_ops.cc:418 : NOT_FOUND: could not find registered platform with id: 0x168f7d750\n",
      "2023-02-06 18:45:31.045123: W tensorflow/core/framework/op_kernel.cc:1830] OP_REQUIRES failed at xla_ops.cc:418 : NOT_FOUND: could not find registered platform with id: 0x168f7d750\n",
      "2023-02-06 18:45:31.045182: W tensorflow/core/framework/op_kernel.cc:1830] OP_REQUIRES failed at xla_ops.cc:418 : NOT_FOUND: could not find registered platform with id: 0x168f7d750\n",
      "2023-02-06 18:45:31.065449: W tensorflow/core/framework/op_kernel.cc:1830] OP_REQUIRES failed at xla_ops.cc:418 : NOT_FOUND: could not find registered platform with id: 0x168f7d750\n",
      "2023-02-06 18:45:31.092578: W tensorflow/core/framework/op_kernel.cc:1830] OP_REQUIRES failed at xla_ops.cc:418 : NOT_FOUND: could not find registered platform with id: 0x168f7d750\n",
      "2023-02-06 18:45:31.117921: W tensorflow/core/framework/op_kernel.cc:1830] OP_REQUIRES failed at xla_ops.cc:418 : NOT_FOUND: could not find registered platform with id: 0x168f7d750\n",
      "2023-02-06 18:45:31.117947: W tensorflow/core/framework/op_kernel.cc:1830] OP_REQUIRES failed at xla_ops.cc:418 : NOT_FOUND: could not find registered platform with id: 0x168f7d750\n",
      "2023-02-06 18:45:31.136766: W tensorflow/core/framework/op_kernel.cc:1830] OP_REQUIRES failed at xla_ops.cc:418 : NOT_FOUND: could not find registered platform with id: 0x168f7d750\n",
      "2023-02-06 18:45:31.163447: W tensorflow/core/framework/op_kernel.cc:1830] OP_REQUIRES failed at xla_ops.cc:418 : NOT_FOUND: could not find registered platform with id: 0x168f7d750\n",
      "2023-02-06 18:45:31.193648: W tensorflow/core/framework/op_kernel.cc:1830] OP_REQUIRES failed at xla_ops.cc:418 : NOT_FOUND: could not find registered platform with id: 0x168f7d750\n",
      "2023-02-06 18:45:31.193679: W tensorflow/core/framework/op_kernel.cc:1830] OP_REQUIRES failed at xla_ops.cc:418 : NOT_FOUND: could not find registered platform with id: 0x168f7d750\n",
      "2023-02-06 18:45:31.214909: W tensorflow/core/framework/op_kernel.cc:1830] OP_REQUIRES failed at xla_ops.cc:418 : NOT_FOUND: could not find registered platform with id: 0x168f7d750\n",
      "2023-02-06 18:45:31.259993: W tensorflow/core/framework/op_kernel.cc:1830] OP_REQUIRES failed at xla_ops.cc:418 : NOT_FOUND: could not find registered platform with id: 0x168f7d750\n",
      "2023-02-06 18:45:31.297924: W tensorflow/core/framework/op_kernel.cc:1830] OP_REQUIRES failed at xla_ops.cc:418 : NOT_FOUND: could not find registered platform with id: 0x168f7d750\n",
      "2023-02-06 18:45:31.297965: W tensorflow/core/framework/op_kernel.cc:1830] OP_REQUIRES failed at xla_ops.cc:418 : NOT_FOUND: could not find registered platform with id: 0x168f7d750\n",
      "2023-02-06 18:45:31.327316: W tensorflow/core/framework/op_kernel.cc:1830] OP_REQUIRES failed at xla_ops.cc:418 : NOT_FOUND: could not find registered platform with id: 0x168f7d750\n",
      "2023-02-06 18:45:31.372595: W tensorflow/core/framework/op_kernel.cc:1830] OP_REQUIRES failed at xla_ops.cc:418 : NOT_FOUND: could not find registered platform with id: 0x168f7d750\n",
      "2023-02-06 18:45:31.610579: W tensorflow/core/framework/op_kernel.cc:1830] OP_REQUIRES failed at xla_ops.cc:418 : NOT_FOUND: could not find registered platform with id: 0x168f7d750\n",
      "2023-02-06 18:45:31.610610: W tensorflow/core/framework/op_kernel.cc:1830] OP_REQUIRES failed at xla_ops.cc:418 : NOT_FOUND: could not find registered platform with id: 0x168f7d750\n",
      "2023-02-06 18:45:31.620103: W tensorflow/core/framework/op_kernel.cc:1830] OP_REQUIRES failed at xla_ops.cc:418 : NOT_FOUND: could not find registered platform with id: 0x168f7d750\n",
      "2023-02-06 18:45:31.641158: W tensorflow/core/framework/op_kernel.cc:1830] OP_REQUIRES failed at xla_ops.cc:418 : NOT_FOUND: could not find registered platform with id: 0x168f7d750\n"
     ]
    },
    {
     "ename": "NotFoundError",
     "evalue": "Graph execution error:\n\nDetected at node 'StatefulPartitionedCall_22' defined at (most recent call last):\n    File \"/Users/kimhoonglim/miniconda3/envs/tensorflow/lib/python3.10/runpy.py\", line 196, in _run_module_as_main\n      return _run_code(code, main_globals, None,\n    File \"/Users/kimhoonglim/miniconda3/envs/tensorflow/lib/python3.10/runpy.py\", line 86, in _run_code\n      exec(code, run_globals)\n    File \"/Users/kimhoonglim/miniconda3/envs/tensorflow/lib/python3.10/site-packages/ipykernel_launcher.py\", line 17, in <module>\n      app.launch_new_instance()\n    File \"/Users/kimhoonglim/miniconda3/envs/tensorflow/lib/python3.10/site-packages/traitlets/config/application.py\", line 1043, in launch_instance\n      app.start()\n    File \"/Users/kimhoonglim/miniconda3/envs/tensorflow/lib/python3.10/site-packages/ipykernel/kernelapp.py\", line 728, in start\n      self.io_loop.start()\n    File \"/Users/kimhoonglim/miniconda3/envs/tensorflow/lib/python3.10/site-packages/tornado/platform/asyncio.py\", line 215, in start\n      self.asyncio_loop.run_forever()\n    File \"/Users/kimhoonglim/miniconda3/envs/tensorflow/lib/python3.10/asyncio/base_events.py\", line 603, in run_forever\n      self._run_once()\n    File \"/Users/kimhoonglim/miniconda3/envs/tensorflow/lib/python3.10/asyncio/base_events.py\", line 1906, in _run_once\n      handle._run()\n    File \"/Users/kimhoonglim/miniconda3/envs/tensorflow/lib/python3.10/asyncio/events.py\", line 80, in _run\n      self._context.run(self._callback, *self._args)\n    File \"/Users/kimhoonglim/miniconda3/envs/tensorflow/lib/python3.10/site-packages/ipykernel/kernelbase.py\", line 513, in dispatch_queue\n      await self.process_one()\n    File \"/Users/kimhoonglim/miniconda3/envs/tensorflow/lib/python3.10/site-packages/ipykernel/kernelbase.py\", line 502, in process_one\n      await dispatch(*args)\n    File \"/Users/kimhoonglim/miniconda3/envs/tensorflow/lib/python3.10/site-packages/ipykernel/kernelbase.py\", line 409, in dispatch_shell\n      await result\n    File \"/Users/kimhoonglim/miniconda3/envs/tensorflow/lib/python3.10/site-packages/ipykernel/kernelbase.py\", line 729, in execute_request\n      reply_content = await reply_content\n    File \"/Users/kimhoonglim/miniconda3/envs/tensorflow/lib/python3.10/site-packages/ipykernel/ipkernel.py\", line 423, in do_execute\n      res = shell.run_cell(\n    File \"/Users/kimhoonglim/miniconda3/envs/tensorflow/lib/python3.10/site-packages/ipykernel/zmqshell.py\", line 540, in run_cell\n      return super().run_cell(*args, **kwargs)\n    File \"/Users/kimhoonglim/miniconda3/envs/tensorflow/lib/python3.10/site-packages/IPython/core/interactiveshell.py\", line 2945, in run_cell\n      result = self._run_cell(\n    File \"/Users/kimhoonglim/miniconda3/envs/tensorflow/lib/python3.10/site-packages/IPython/core/interactiveshell.py\", line 3000, in _run_cell\n      return runner(coro)\n    File \"/Users/kimhoonglim/miniconda3/envs/tensorflow/lib/python3.10/site-packages/IPython/core/async_helpers.py\", line 129, in _pseudo_sync_runner\n      coro.send(None)\n    File \"/Users/kimhoonglim/miniconda3/envs/tensorflow/lib/python3.10/site-packages/IPython/core/interactiveshell.py\", line 3203, in run_cell_async\n      has_raised = await self.run_ast_nodes(code_ast.body, cell_name,\n    File \"/Users/kimhoonglim/miniconda3/envs/tensorflow/lib/python3.10/site-packages/IPython/core/interactiveshell.py\", line 3382, in run_ast_nodes\n      if await self.run_code(code, result, async_=asy):\n    File \"/Users/kimhoonglim/miniconda3/envs/tensorflow/lib/python3.10/site-packages/IPython/core/interactiveshell.py\", line 3442, in run_code\n      exec(code_obj, self.user_global_ns, self.user_ns)\n    File \"/var/folders/q7/hl1q8nr10b3dpr7qbtpb57n80000gn/T/ipykernel_46682/197472587.py\", line 3, in <module>\n      history = model101.fit(\n    File \"/Users/kimhoonglim/miniconda3/envs/tensorflow/lib/python3.10/site-packages/keras/utils/traceback_utils.py\", line 65, in error_handler\n      return fn(*args, **kwargs)\n    File \"/Users/kimhoonglim/miniconda3/envs/tensorflow/lib/python3.10/site-packages/keras/engine/training.py\", line 1650, in fit\n      tmp_logs = self.train_function(iterator)\n    File \"/Users/kimhoonglim/miniconda3/envs/tensorflow/lib/python3.10/site-packages/keras/engine/training.py\", line 1249, in train_function\n      return step_function(self, iterator)\n    File \"/Users/kimhoonglim/miniconda3/envs/tensorflow/lib/python3.10/site-packages/keras/engine/training.py\", line 1233, in step_function\n      outputs = model.distribute_strategy.run(run_step, args=(data,))\n    File \"/Users/kimhoonglim/miniconda3/envs/tensorflow/lib/python3.10/site-packages/keras/engine/training.py\", line 1222, in run_step\n      outputs = model.train_step(data)\n    File \"/Users/kimhoonglim/miniconda3/envs/tensorflow/lib/python3.10/site-packages/keras/engine/training.py\", line 1027, in train_step\n      self.optimizer.minimize(loss, self.trainable_variables, tape=tape)\n    File \"/Users/kimhoonglim/miniconda3/envs/tensorflow/lib/python3.10/site-packages/keras/optimizers/optimizer_experimental/optimizer.py\", line 527, in minimize\n      self.apply_gradients(grads_and_vars)\n    File \"/Users/kimhoonglim/miniconda3/envs/tensorflow/lib/python3.10/site-packages/keras/optimizers/optimizer_experimental/optimizer.py\", line 1140, in apply_gradients\n      return super().apply_gradients(grads_and_vars, name=name)\n    File \"/Users/kimhoonglim/miniconda3/envs/tensorflow/lib/python3.10/site-packages/keras/optimizers/optimizer_experimental/optimizer.py\", line 634, in apply_gradients\n      iteration = self._internal_apply_gradients(grads_and_vars)\n    File \"/Users/kimhoonglim/miniconda3/envs/tensorflow/lib/python3.10/site-packages/keras/optimizers/optimizer_experimental/optimizer.py\", line 1166, in _internal_apply_gradients\n      return tf.__internal__.distribute.interim.maybe_merge_call(\n    File \"/Users/kimhoonglim/miniconda3/envs/tensorflow/lib/python3.10/site-packages/keras/optimizers/optimizer_experimental/optimizer.py\", line 1216, in _distributed_apply_gradients_fn\n      distribution.extended.update(\n    File \"/Users/kimhoonglim/miniconda3/envs/tensorflow/lib/python3.10/site-packages/keras/optimizers/optimizer_experimental/optimizer.py\", line 1211, in apply_grad_to_update_var\n      return self._update_step_xla(grad, var, id(self._var_key(var)))\nNode: 'StatefulPartitionedCall_22'\ncould not find registered platform with id: 0x168f7d750\n\t [[{{node StatefulPartitionedCall_22}}]] [Op:__inference_train_function_22712]",
     "output_type": "error",
     "traceback": [
      "\u001b[0;31m---------------------------------------------------------------------------\u001b[0m",
      "\u001b[0;31mNotFoundError\u001b[0m                             Traceback (most recent call last)",
      "Cell \u001b[0;32mIn[17], line 3\u001b[0m\n\u001b[1;32m      1\u001b[0m epoch \u001b[38;5;241m=\u001b[39m \u001b[38;5;241m10\u001b[39m\n\u001b[0;32m----> 3\u001b[0m history \u001b[38;5;241m=\u001b[39m \u001b[43mmodel101\u001b[49m\u001b[38;5;241;43m.\u001b[39;49m\u001b[43mfit\u001b[49m\u001b[43m(\u001b[49m\n\u001b[1;32m      4\u001b[0m \u001b[43m    \u001b[49m\u001b[43mtrain_dataset\u001b[49m\u001b[43m,\u001b[49m\n\u001b[1;32m      5\u001b[0m \u001b[43m    \u001b[49m\u001b[43mvalidation_data\u001b[49m\u001b[43m \u001b[49m\u001b[38;5;241;43m=\u001b[39;49m\u001b[43m \u001b[49m\u001b[43mvalid_dataset\u001b[49m\u001b[43m,\u001b[49m\n\u001b[1;32m      6\u001b[0m \u001b[43m    \u001b[49m\u001b[43mepochs\u001b[49m\u001b[38;5;241;43m=\u001b[39;49m\u001b[43mepoch\u001b[49m\u001b[43m)\u001b[49m\n",
      "File \u001b[0;32m~/miniconda3/envs/tensorflow/lib/python3.10/site-packages/keras/utils/traceback_utils.py:70\u001b[0m, in \u001b[0;36mfilter_traceback.<locals>.error_handler\u001b[0;34m(*args, **kwargs)\u001b[0m\n\u001b[1;32m     67\u001b[0m     filtered_tb \u001b[38;5;241m=\u001b[39m _process_traceback_frames(e\u001b[38;5;241m.\u001b[39m__traceback__)\n\u001b[1;32m     68\u001b[0m     \u001b[38;5;66;03m# To get the full stack trace, call:\u001b[39;00m\n\u001b[1;32m     69\u001b[0m     \u001b[38;5;66;03m# `tf.debugging.disable_traceback_filtering()`\u001b[39;00m\n\u001b[0;32m---> 70\u001b[0m     \u001b[38;5;28;01mraise\u001b[39;00m e\u001b[38;5;241m.\u001b[39mwith_traceback(filtered_tb) \u001b[38;5;28;01mfrom\u001b[39;00m \u001b[38;5;28mNone\u001b[39m\n\u001b[1;32m     71\u001b[0m \u001b[38;5;28;01mfinally\u001b[39;00m:\n\u001b[1;32m     72\u001b[0m     \u001b[38;5;28;01mdel\u001b[39;00m filtered_tb\n",
      "File \u001b[0;32m~/miniconda3/envs/tensorflow/lib/python3.10/site-packages/tensorflow/python/eager/execute.py:52\u001b[0m, in \u001b[0;36mquick_execute\u001b[0;34m(op_name, num_outputs, inputs, attrs, ctx, name)\u001b[0m\n\u001b[1;32m     50\u001b[0m \u001b[38;5;28;01mtry\u001b[39;00m:\n\u001b[1;32m     51\u001b[0m   ctx\u001b[38;5;241m.\u001b[39mensure_initialized()\n\u001b[0;32m---> 52\u001b[0m   tensors \u001b[38;5;241m=\u001b[39m pywrap_tfe\u001b[38;5;241m.\u001b[39mTFE_Py_Execute(ctx\u001b[38;5;241m.\u001b[39m_handle, device_name, op_name,\n\u001b[1;32m     53\u001b[0m                                       inputs, attrs, num_outputs)\n\u001b[1;32m     54\u001b[0m \u001b[38;5;28;01mexcept\u001b[39;00m core\u001b[38;5;241m.\u001b[39m_NotOkStatusException \u001b[38;5;28;01mas\u001b[39;00m e:\n\u001b[1;32m     55\u001b[0m   \u001b[38;5;28;01mif\u001b[39;00m name \u001b[38;5;129;01mis\u001b[39;00m \u001b[38;5;129;01mnot\u001b[39;00m \u001b[38;5;28;01mNone\u001b[39;00m:\n",
      "\u001b[0;31mNotFoundError\u001b[0m: Graph execution error:\n\nDetected at node 'StatefulPartitionedCall_22' defined at (most recent call last):\n    File \"/Users/kimhoonglim/miniconda3/envs/tensorflow/lib/python3.10/runpy.py\", line 196, in _run_module_as_main\n      return _run_code(code, main_globals, None,\n    File \"/Users/kimhoonglim/miniconda3/envs/tensorflow/lib/python3.10/runpy.py\", line 86, in _run_code\n      exec(code, run_globals)\n    File \"/Users/kimhoonglim/miniconda3/envs/tensorflow/lib/python3.10/site-packages/ipykernel_launcher.py\", line 17, in <module>\n      app.launch_new_instance()\n    File \"/Users/kimhoonglim/miniconda3/envs/tensorflow/lib/python3.10/site-packages/traitlets/config/application.py\", line 1043, in launch_instance\n      app.start()\n    File \"/Users/kimhoonglim/miniconda3/envs/tensorflow/lib/python3.10/site-packages/ipykernel/kernelapp.py\", line 728, in start\n      self.io_loop.start()\n    File \"/Users/kimhoonglim/miniconda3/envs/tensorflow/lib/python3.10/site-packages/tornado/platform/asyncio.py\", line 215, in start\n      self.asyncio_loop.run_forever()\n    File \"/Users/kimhoonglim/miniconda3/envs/tensorflow/lib/python3.10/asyncio/base_events.py\", line 603, in run_forever\n      self._run_once()\n    File \"/Users/kimhoonglim/miniconda3/envs/tensorflow/lib/python3.10/asyncio/base_events.py\", line 1906, in _run_once\n      handle._run()\n    File \"/Users/kimhoonglim/miniconda3/envs/tensorflow/lib/python3.10/asyncio/events.py\", line 80, in _run\n      self._context.run(self._callback, *self._args)\n    File \"/Users/kimhoonglim/miniconda3/envs/tensorflow/lib/python3.10/site-packages/ipykernel/kernelbase.py\", line 513, in dispatch_queue\n      await self.process_one()\n    File \"/Users/kimhoonglim/miniconda3/envs/tensorflow/lib/python3.10/site-packages/ipykernel/kernelbase.py\", line 502, in process_one\n      await dispatch(*args)\n    File \"/Users/kimhoonglim/miniconda3/envs/tensorflow/lib/python3.10/site-packages/ipykernel/kernelbase.py\", line 409, in dispatch_shell\n      await result\n    File \"/Users/kimhoonglim/miniconda3/envs/tensorflow/lib/python3.10/site-packages/ipykernel/kernelbase.py\", line 729, in execute_request\n      reply_content = await reply_content\n    File \"/Users/kimhoonglim/miniconda3/envs/tensorflow/lib/python3.10/site-packages/ipykernel/ipkernel.py\", line 423, in do_execute\n      res = shell.run_cell(\n    File \"/Users/kimhoonglim/miniconda3/envs/tensorflow/lib/python3.10/site-packages/ipykernel/zmqshell.py\", line 540, in run_cell\n      return super().run_cell(*args, **kwargs)\n    File \"/Users/kimhoonglim/miniconda3/envs/tensorflow/lib/python3.10/site-packages/IPython/core/interactiveshell.py\", line 2945, in run_cell\n      result = self._run_cell(\n    File \"/Users/kimhoonglim/miniconda3/envs/tensorflow/lib/python3.10/site-packages/IPython/core/interactiveshell.py\", line 3000, in _run_cell\n      return runner(coro)\n    File \"/Users/kimhoonglim/miniconda3/envs/tensorflow/lib/python3.10/site-packages/IPython/core/async_helpers.py\", line 129, in _pseudo_sync_runner\n      coro.send(None)\n    File \"/Users/kimhoonglim/miniconda3/envs/tensorflow/lib/python3.10/site-packages/IPython/core/interactiveshell.py\", line 3203, in run_cell_async\n      has_raised = await self.run_ast_nodes(code_ast.body, cell_name,\n    File \"/Users/kimhoonglim/miniconda3/envs/tensorflow/lib/python3.10/site-packages/IPython/core/interactiveshell.py\", line 3382, in run_ast_nodes\n      if await self.run_code(code, result, async_=asy):\n    File \"/Users/kimhoonglim/miniconda3/envs/tensorflow/lib/python3.10/site-packages/IPython/core/interactiveshell.py\", line 3442, in run_code\n      exec(code_obj, self.user_global_ns, self.user_ns)\n    File \"/var/folders/q7/hl1q8nr10b3dpr7qbtpb57n80000gn/T/ipykernel_46682/197472587.py\", line 3, in <module>\n      history = model101.fit(\n    File \"/Users/kimhoonglim/miniconda3/envs/tensorflow/lib/python3.10/site-packages/keras/utils/traceback_utils.py\", line 65, in error_handler\n      return fn(*args, **kwargs)\n    File \"/Users/kimhoonglim/miniconda3/envs/tensorflow/lib/python3.10/site-packages/keras/engine/training.py\", line 1650, in fit\n      tmp_logs = self.train_function(iterator)\n    File \"/Users/kimhoonglim/miniconda3/envs/tensorflow/lib/python3.10/site-packages/keras/engine/training.py\", line 1249, in train_function\n      return step_function(self, iterator)\n    File \"/Users/kimhoonglim/miniconda3/envs/tensorflow/lib/python3.10/site-packages/keras/engine/training.py\", line 1233, in step_function\n      outputs = model.distribute_strategy.run(run_step, args=(data,))\n    File \"/Users/kimhoonglim/miniconda3/envs/tensorflow/lib/python3.10/site-packages/keras/engine/training.py\", line 1222, in run_step\n      outputs = model.train_step(data)\n    File \"/Users/kimhoonglim/miniconda3/envs/tensorflow/lib/python3.10/site-packages/keras/engine/training.py\", line 1027, in train_step\n      self.optimizer.minimize(loss, self.trainable_variables, tape=tape)\n    File \"/Users/kimhoonglim/miniconda3/envs/tensorflow/lib/python3.10/site-packages/keras/optimizers/optimizer_experimental/optimizer.py\", line 527, in minimize\n      self.apply_gradients(grads_and_vars)\n    File \"/Users/kimhoonglim/miniconda3/envs/tensorflow/lib/python3.10/site-packages/keras/optimizers/optimizer_experimental/optimizer.py\", line 1140, in apply_gradients\n      return super().apply_gradients(grads_and_vars, name=name)\n    File \"/Users/kimhoonglim/miniconda3/envs/tensorflow/lib/python3.10/site-packages/keras/optimizers/optimizer_experimental/optimizer.py\", line 634, in apply_gradients\n      iteration = self._internal_apply_gradients(grads_and_vars)\n    File \"/Users/kimhoonglim/miniconda3/envs/tensorflow/lib/python3.10/site-packages/keras/optimizers/optimizer_experimental/optimizer.py\", line 1166, in _internal_apply_gradients\n      return tf.__internal__.distribute.interim.maybe_merge_call(\n    File \"/Users/kimhoonglim/miniconda3/envs/tensorflow/lib/python3.10/site-packages/keras/optimizers/optimizer_experimental/optimizer.py\", line 1216, in _distributed_apply_gradients_fn\n      distribution.extended.update(\n    File \"/Users/kimhoonglim/miniconda3/envs/tensorflow/lib/python3.10/site-packages/keras/optimizers/optimizer_experimental/optimizer.py\", line 1211, in apply_grad_to_update_var\n      return self._update_step_xla(grad, var, id(self._var_key(var)))\nNode: 'StatefulPartitionedCall_22'\ncould not find registered platform with id: 0x168f7d750\n\t [[{{node StatefulPartitionedCall_22}}]] [Op:__inference_train_function_22712]"
     ]
    }
   ],
   "source": [
    "epoch = 10\n",
    "\n",
    "history = model101.fit(\n",
    "    train_dataset,\n",
    "    validation_data = valid_dataset,\n",
    "    epochs=epoch)"
   ]
  },
  {
   "cell_type": "markdown",
   "id": "34474d06",
   "metadata": {},
   "source": [
    "## Our first CNN model"
   ]
  },
  {
   "cell_type": "code",
   "execution_count": 9,
   "id": "7a5292fa-7e81-4f8e-9f31-f5ae36d84fb2",
   "metadata": {},
   "outputs": [],
   "source": [
    "num_classes = len(class_names)\n",
    "\n",
    "model = tf.keras.Sequential([\n",
    "  tf.keras.layers.Rescaling(1./255),\n",
    "  tf.keras.layers.Conv2D(32, 3, activation='relu'),\n",
    "  tf.keras.layers.MaxPooling2D(),\n",
    "  tf.keras.layers.Conv2D(32, 3, activation='relu'),\n",
    "  tf.keras.layers.MaxPooling2D(),\n",
    "  tf.keras.layers.Conv2D(32, 3, activation='relu'),\n",
    "  tf.keras.layers.MaxPooling2D(),\n",
    "  tf.keras.layers.Flatten(),\n",
    "  tf.keras.layers.Dense(128, activation='relu'),\n",
    "  tf.keras.layers.Dense(num_classes)\n",
    "])"
   ]
  },
  {
   "cell_type": "code",
   "execution_count": 10,
   "id": "a02e181d",
   "metadata": {},
   "outputs": [
    {
     "data": {
      "text/plain": [
       "<keras.engine.sequential.Sequential at 0x7ff211cbe3d0>"
      ]
     },
     "execution_count": 10,
     "metadata": {},
     "output_type": "execute_result"
    }
   ],
   "source": [
    "model"
   ]
  },
  {
   "cell_type": "code",
   "execution_count": 25,
   "id": "4c96a2ad",
   "metadata": {},
   "outputs": [],
   "source": [
    "from tensorflow.keras import backend as K"
   ]
  },
  {
   "cell_type": "code",
   "execution_count": 42,
   "id": "5ff0e1a2",
   "metadata": {},
   "outputs": [],
   "source": [
    "def recall(y_true, y_pred):\n",
    "    y_true = K.ones_like(y_true)\n",
    "    true_positives = K.sum(K.round(K.clip(y_true * y_pred, 0, 1)))\n",
    "    all_positives = K.sum(K.round(K.clip(y_true, 0, 1)))\n",
    "\n",
    "    recall = true_positives / (all_positives + K.epsilon())\n",
    "    return recall\n",
    "\n",
    "def precision(y_true, y_pred):\n",
    "    y_true = K.ones_like(y_true)\n",
    "    true_positives = K.sum(K.round(K.clip(y_true * y_pred, 0, 1)))\n",
    "\n",
    "    predicted_positives = K.sum(K.round(K.clip(y_pred, 0, 1)))\n",
    "    precision = true_positives / (predicted_positives + K.epsilon())\n",
    "    return precision\n",
    "\n",
    "def f1_score(y_true, y_pred):\n",
    "    precision1 = precision(y_true, y_pred)\n",
    "    recall1 = recall(y_true, y_pred)\n",
    "    return 2*((precision1*recall1)/(precision1+recall1+K.epsilon()))"
   ]
  },
  {
   "cell_type": "code",
   "execution_count": 47,
   "id": "3700998e",
   "metadata": {},
   "outputs": [],
   "source": [
    "model.compile(\n",
    "  optimizer='adam',\n",
    "  loss=tf.keras.losses.SparseCategoricalCrossentropy(from_logits=True),\n",
    "  metrics=['accuracy',f1_score, precision, recall])"
   ]
  },
  {
   "cell_type": "code",
   "execution_count": 49,
   "id": "4c1a5a59-7778-436c-a12f-a536581cde02",
   "metadata": {},
   "outputs": [
    {
     "name": "stdout",
     "output_type": "stream",
     "text": [
      "Epoch 1/10\n",
      "375/375 [==============================] - 47s 126ms/step - loss: 0.0116 - accuracy: 0.9965 - f1_score: 1.5381 - precision: 1.0000 - recall: 3.3433 - val_loss: 0.1293 - val_accuracy: 0.9690 - val_f1_score: 1.5012 - val_precision: 1.0000 - val_recall: 3.0191\n",
      "Epoch 2/10\n",
      "375/375 [==============================] - 47s 124ms/step - loss: 0.0153 - accuracy: 0.9957 - f1_score: 1.5210 - precision: 1.0000 - recall: 3.1863 - val_loss: 0.0957 - val_accuracy: 0.9807 - val_f1_score: 1.5172 - val_precision: 1.0000 - val_recall: 3.1516\n",
      "Epoch 3/10\n",
      "375/375 [==============================] - 46s 122ms/step - loss: 0.0115 - accuracy: 0.9967 - f1_score: 1.5283 - precision: 1.0000 - recall: 3.2541 - val_loss: 0.0952 - val_accuracy: 0.9817 - val_f1_score: 1.5419 - val_precision: 1.0000 - val_recall: 3.3726\n",
      "Epoch 4/10\n",
      "375/375 [==============================] - 43s 114ms/step - loss: 0.0028 - accuracy: 0.9998 - f1_score: 1.5188 - precision: 1.0000 - recall: 3.1653 - val_loss: 0.0727 - val_accuracy: 0.9867 - val_f1_score: 1.5161 - val_precision: 1.0000 - val_recall: 3.1427\n",
      "Epoch 5/10\n",
      "375/375 [==============================] - 38s 101ms/step - loss: 0.0238 - accuracy: 0.9933 - f1_score: 1.5214 - precision: 1.0000 - recall: 3.1912 - val_loss: 0.1237 - val_accuracy: 0.9747 - val_f1_score: 1.5202 - val_precision: 1.0000 - val_recall: 3.1763\n",
      "Epoch 6/10\n",
      "375/375 [==============================] - 38s 102ms/step - loss: 0.0100 - accuracy: 0.9969 - f1_score: 1.5141 - precision: 1.0000 - recall: 3.1284 - val_loss: 0.0861 - val_accuracy: 0.9837 - val_f1_score: 1.5143 - val_precision: 1.0000 - val_recall: 3.1285\n",
      "Epoch 7/10\n",
      "375/375 [==============================] - 40s 106ms/step - loss: 0.0149 - accuracy: 0.9943 - f1_score: 1.5200 - precision: 1.0000 - recall: 3.1813 - val_loss: 0.0958 - val_accuracy: 0.9800 - val_f1_score: 1.5029 - val_precision: 1.0000 - val_recall: 3.0305\n",
      "Epoch 8/10\n",
      "375/375 [==============================] - 38s 102ms/step - loss: 0.0040 - accuracy: 0.9990 - f1_score: 1.5079 - precision: 1.0000 - recall: 3.0735 - val_loss: 0.0674 - val_accuracy: 0.9867 - val_f1_score: 1.5141 - val_precision: 1.0000 - val_recall: 3.1241\n",
      "Epoch 9/10\n",
      "375/375 [==============================] - 39s 103ms/step - loss: 3.2040e-04 - accuracy: 1.0000 - f1_score: 1.5104 - precision: 1.0000 - recall: 3.0942 - val_loss: 0.0637 - val_accuracy: 0.9877 - val_f1_score: 1.5097 - val_precision: 1.0000 - val_recall: 3.0865\n",
      "Epoch 10/10\n",
      "375/375 [==============================] - 40s 106ms/step - loss: 1.5038e-04 - accuracy: 1.0000 - f1_score: 1.5098 - precision: 1.0000 - recall: 3.0889 - val_loss: 0.0653 - val_accuracy: 0.9873 - val_f1_score: 1.5087 - val_precision: 1.0000 - val_recall: 3.0778\n"
     ]
    }
   ],
   "source": [
    "epoch = 10\n",
    "\n",
    "history = model.fit(\n",
    "    train_ds,\n",
    "    validation_data = val_ds,\n",
    "    epochs=epoch)"
   ]
  },
  {
   "cell_type": "code",
   "execution_count": 31,
   "id": "342e9c9c",
   "metadata": {},
   "outputs": [
    {
     "name": "stdout",
     "output_type": "stream",
     "text": [
      "Model: \"sequential_3\"\n",
      "_________________________________________________________________\n",
      " Layer (type)                Output Shape              Param #   \n",
      "=================================================================\n",
      " rescaling_4 (Rescaling)     (None, 64, 64, 1)         0         \n",
      "                                                                 \n",
      " conv2d_9 (Conv2D)           (None, 62, 62, 32)        320       \n",
      "                                                                 \n",
      " max_pooling2d_9 (MaxPooling  (None, 31, 31, 32)       0         \n",
      " 2D)                                                             \n",
      "                                                                 \n",
      " conv2d_10 (Conv2D)          (None, 29, 29, 32)        9248      \n",
      "                                                                 \n",
      " max_pooling2d_10 (MaxPoolin  (None, 14, 14, 32)       0         \n",
      " g2D)                                                            \n",
      "                                                                 \n",
      " conv2d_11 (Conv2D)          (None, 12, 12, 32)        9248      \n",
      "                                                                 \n",
      " max_pooling2d_11 (MaxPoolin  (None, 6, 6, 32)         0         \n",
      " g2D)                                                            \n",
      "                                                                 \n",
      " flatten_3 (Flatten)         (None, 1152)              0         \n",
      "                                                                 \n",
      " dense_6 (Dense)             (None, 128)               147584    \n",
      "                                                                 \n",
      " dense_7 (Dense)             (None, 15)                1935      \n",
      "                                                                 \n",
      "=================================================================\n",
      "Total params: 168,335\n",
      "Trainable params: 168,335\n",
      "Non-trainable params: 0\n",
      "_________________________________________________________________\n"
     ]
    }
   ],
   "source": [
    "model1.summary()"
   ]
  },
  {
   "cell_type": "markdown",
   "id": "891179bf",
   "metadata": {},
   "source": [
    "#### Explanation\n",
    "\n",
    "We run 10 ephocs on the initial checking of the performance. As shown above, we potentially reached a maximum accuracy of 98.03% on the testing dataset without any data augmentation steps. "
   ]
  },
  {
   "cell_type": "code",
   "execution_count": 30,
   "id": "847561a7-cb82-4f89-9a79-ab9f22de437d",
   "metadata": {},
   "outputs": [
    {
     "data": {
      "image/png": "[encoded data removed]",
      "text/plain": [
       "<Figure size 720x720 with 2 Axes>"
      ]
     },
     "metadata": {
      "needs_background": "light"
     },
     "output_type": "display_data"
    }
   ],
   "source": [
    "def plot_result(history,epochs):\n",
    "\n",
    "    acc = history.history['accuracy']\n",
    "    val_acc = history.history['val_accuracy']\n",
    "\n",
    "    loss = history.history['loss']\n",
    "    val_loss = history.history['val_loss']\n",
    "\n",
    "    epochs_range = range(epochs)\n",
    "\n",
    "    plt.figure(figsize=(10, 10))\n",
    "    plt.subplot(1, 2, 1)\n",
    "    plt.plot(epochs_range, acc, label='Training Accuracy')\n",
    "    plt.plot(epochs_range, val_acc, label='Validation Accuracy')\n",
    "    plt.ylim(ymin=0) \n",
    "    plt.legend(loc='lower right')\n",
    "    plt.title('Training and Validation Accuracy')\n",
    "\n",
    "    plt.subplot(1, 2, 2)\n",
    "    plt.plot(epochs_range, loss, label='Training Loss')\n",
    "    plt.plot(epochs_range, val_loss, label='Validation Loss')\n",
    "    plt.legend(loc='upper right')\n",
    "    plt.title('Training and Validation Loss')\n",
    "    plt.ylim(ymin=0) \n",
    "    plt.show()\n",
    "\n",
    "plot_result(history,epoch)"
   ]
  },
  {
   "cell_type": "code",
   "execution_count": 53,
   "id": "24fda66e-93d4-4a02-a726-83657c4f8652",
   "metadata": {},
   "outputs": [
    {
     "name": "stdout",
     "output_type": "stream",
     "text": [
      "saved\n"
     ]
    }
   ],
   "source": [
    "model.save('cmnist_model_6.h5')\n",
    "print('saved')"
   ]
  },
  {
   "cell_type": "code",
   "execution_count": 54,
   "id": "bd9c5e83-2138-4cfa-a89d-bec902d035b9",
   "metadata": {},
   "outputs": [
    {
     "name": "stdout",
     "output_type": "stream",
     "text": [
      "This image most likely belongs to 100000000 with a 100.00 percent confidence.\n"
     ]
    },
    {
     "data": {
      "image/png": "[encoded data removed]",
      "text/plain": [
       "<Figure size 432x288 with 1 Axes>"
      ]
     },
     "metadata": {
      "needs_background": "light"
     },
     "output_type": "display_data"
    }
   ],
   "source": [
    "# Test the model\n",
    "from PIL import Image\n",
    "\n",
    "img = Image.open('data/c14.jpg')\n",
    "\n",
    "plt.figure()\n",
    "plt.imshow(img)\n",
    "plt.title(\"Testing Sample's Accuracy\")\n",
    "plt.axis(\"off\")\n",
    "plt.show\n",
    "\n",
    "img = img.resize((64, 64))\n",
    "img = img.convert('L')\n",
    "\n",
    "# Preprocessing the image\n",
    "x = image.img_to_array(img)\n",
    "# x = np.true_divide(x, 255)\n",
    "x = np.expand_dims(x, axis=0)\n",
    "\n",
    "model = load_model('cmnist_model_6.h5')    \n",
    "preds = model.predict(x)\n",
    "score = tf.nn.softmax(preds[0])\n",
    "print(\"This image most likely belongs to {} with a {:.2f} percent confidence.\".format(class_names[np.argmax(score)], 100 * np.max(score)))"
   ]
  },
  {
   "cell_type": "markdown",
   "id": "7ff9db16",
   "metadata": {},
   "source": [
    "## CNN with Data Augmentation "
   ]
  },
  {
   "cell_type": "code",
   "execution_count": 55,
   "id": "047cb553-88c9-4486-8e47-bfa2f05eddd9",
   "metadata": {},
   "outputs": [],
   "source": [
    "data_augmentation = keras.Sequential(\n",
    "  [\n",
    "    layers.RandomFlip(\"horizontal\",\n",
    "                      input_shape=(img_height,\n",
    "                                  img_width,\n",
    "                                  1)),\n",
    "    layers.RandomRotation(0.1),\n",
    "    layers.RandomZoom(0.1),\n",
    "  ]\n",
    ")"
   ]
  },
  {
   "cell_type": "code",
   "execution_count": 56,
   "id": "d2c7bb45-5413-4e97-8fa7-dab38cda477d",
   "metadata": {},
   "outputs": [
    {
     "data": {
      "image/png": "[encoded data removed]",
      "text/plain": [
       "<Figure size 720x720 with 9 Axes>"
      ]
     },
     "metadata": {
      "needs_background": "light"
     },
     "output_type": "display_data"
    }
   ],
   "source": [
    "plt.figure(figsize=(10, 10))\n",
    "for images, _ in train_ds.take(1):\n",
    "  for i in range(9):\n",
    "    augmented_images = data_augmentation(images)\n",
    "    ax = plt.subplot(3, 3, i + 1)\n",
    "    plt.imshow(augmented_images[0].numpy().astype(\"uint8\"))\n",
    "    plt.axis(\"off\")"
   ]
  },
  {
   "cell_type": "code",
   "execution_count": 57,
   "id": "79d77c7c-3a9f-455c-aca8-e53d13de3e2f",
   "metadata": {},
   "outputs": [],
   "source": [
    "augmented_model = Sequential([\n",
    "  data_augmentation,\n",
    "  layers.Rescaling(1./255),\n",
    "  layers.Conv2D(16, 3, padding='same', activation='relu'),\n",
    "  layers.MaxPooling2D(),\n",
    "  layers.Conv2D(32, 3, padding='same', activation='relu'),\n",
    "  layers.MaxPooling2D(),\n",
    "  layers.Conv2D(64, 3, padding='same', activation='relu'),\n",
    "  layers.MaxPooling2D(),\n",
    "  layers.Dropout(0.2),\n",
    "  layers.Flatten(),\n",
    "  layers.Dense(128, activation='relu'),\n",
    "  layers.Dense(num_classes, name=\"outputs\")\n",
    "])"
   ]
  },
  {
   "cell_type": "code",
   "execution_count": 58,
   "id": "c208b434-d84e-4835-8f26-f1a7751f71cf",
   "metadata": {},
   "outputs": [],
   "source": [
    "augmented_model.compile(optimizer='adam',\n",
    "              loss=tf.keras.losses.SparseCategoricalCrossentropy(from_logits=True),\n",
    "              metrics=['accuracy'])"
   ]
  },
  {
   "cell_type": "code",
   "execution_count": 59,
   "id": "d26eae8a-a141-42ee-9e93-7f83c6c91423",
   "metadata": {},
   "outputs": [
    {
     "name": "stdout",
     "output_type": "stream",
     "text": [
      "Model: \"sequential_15\"\n",
      "_________________________________________________________________\n",
      " Layer (type)                Output Shape              Param #   \n",
      "=================================================================\n",
      " sequential_14 (Sequential)  (None, 64, 64, 1)         0         \n",
      "                                                                 \n",
      " rescaling_15 (Rescaling)    (None, 64, 64, 1)         0         \n",
      "                                                                 \n",
      " conv2d_33 (Conv2D)          (None, 64, 64, 16)        160       \n",
      "                                                                 \n",
      " max_pooling2d_27 (MaxPoolin  (None, 32, 32, 16)       0         \n",
      " g2D)                                                            \n",
      "                                                                 \n",
      " conv2d_34 (Conv2D)          (None, 32, 32, 32)        4640      \n",
      "                                                                 \n",
      " max_pooling2d_28 (MaxPoolin  (None, 16, 16, 32)       0         \n",
      " g2D)                                                            \n",
      "                                                                 \n",
      " conv2d_35 (Conv2D)          (None, 16, 16, 64)        18496     \n",
      "                                                                 \n",
      " max_pooling2d_29 (MaxPoolin  (None, 8, 8, 64)         0         \n",
      " g2D)                                                            \n",
      "                                                                 \n",
      " dropout_8 (Dropout)         (None, 8, 8, 64)          0         \n",
      "                                                                 \n",
      " flatten_13 (Flatten)        (None, 4096)              0         \n",
      "                                                                 \n",
      " dense_24 (Dense)            (None, 128)               524416    \n",
      "                                                                 \n",
      " outputs (Dense)             (None, 15)                1935      \n",
      "                                                                 \n",
      "=================================================================\n",
      "Total params: 549,647\n",
      "Trainable params: 549,647\n",
      "Non-trainable params: 0\n",
      "_________________________________________________________________\n"
     ]
    }
   ],
   "source": [
    "augmented_model.summary()"
   ]
  },
  {
   "cell_type": "code",
   "execution_count": 60,
   "id": "6ad71e0f-da35-4c24-a6ce-32825db2f344",
   "metadata": {},
   "outputs": [
    {
     "name": "stdout",
     "output_type": "stream",
     "text": [
      "Epoch 1/10\n",
      "375/375 [==============================] - 49s 126ms/step - loss: 1.4547 - accuracy: 0.5093 - val_loss: 0.5198 - val_accuracy: 0.8180\n",
      "Epoch 2/10\n",
      "375/375 [==============================] - 50s 132ms/step - loss: 0.6555 - accuracy: 0.7779 - val_loss: 0.4322 - val_accuracy: 0.8480\n",
      "Epoch 3/10\n",
      "375/375 [==============================] - 45s 121ms/step - loss: 0.4879 - accuracy: 0.8378 - val_loss: 0.2337 - val_accuracy: 0.9203\n",
      "Epoch 4/10\n",
      "375/375 [==============================] - 48s 127ms/step - loss: 0.4068 - accuracy: 0.8619 - val_loss: 0.3193 - val_accuracy: 0.8873\n",
      "Epoch 5/10\n",
      "375/375 [==============================] - 51s 135ms/step - loss: 0.3292 - accuracy: 0.8847 - val_loss: 0.2028 - val_accuracy: 0.9263\n",
      "Epoch 6/10\n",
      "375/375 [==============================] - 54s 144ms/step - loss: 0.2914 - accuracy: 0.9041 - val_loss: 0.1716 - val_accuracy: 0.9407\n",
      "Epoch 7/10\n",
      "375/375 [==============================] - 55s 146ms/step - loss: 0.2639 - accuracy: 0.9132 - val_loss: 0.1709 - val_accuracy: 0.9437\n",
      "Epoch 8/10\n",
      "375/375 [==============================] - 50s 135ms/step - loss: 0.2211 - accuracy: 0.9255 - val_loss: 0.1762 - val_accuracy: 0.9430\n",
      "Epoch 9/10\n",
      "375/375 [==============================] - 43s 114ms/step - loss: 0.2082 - accuracy: 0.9308 - val_loss: 0.1324 - val_accuracy: 0.9513\n",
      "Epoch 10/10\n",
      "375/375 [==============================] - 45s 121ms/step - loss: 0.1810 - accuracy: 0.9394 - val_loss: 0.1526 - val_accuracy: 0.9480\n",
      "saved\n"
     ]
    }
   ],
   "source": [
    "epochs = 10\n",
    "history1 = augmented_model.fit(\n",
    "  train_ds,\n",
    "  validation_data=val_ds,\n",
    "  epochs=epochs\n",
    ")\n",
    "augmented_model.save('cmnist_model_7.h5')\n",
    "print('saved')"
   ]
  },
  {
   "cell_type": "code",
   "execution_count": 61,
   "id": "15f55673-ee12-4adc-af5d-2f3f8cbc86a4",
   "metadata": {},
   "outputs": [
    {
     "data": {
      "image/png": "[encoded data removed]",
      "text/plain": [
       "<Figure size 576x576 with 2 Axes>"
      ]
     },
     "metadata": {
      "needs_background": "light"
     },
     "output_type": "display_data"
    }
   ],
   "source": [
    "acc = history1.history['accuracy']\n",
    "val_acc = history1.history['val_accuracy']\n",
    "\n",
    "loss = history1.history['loss']\n",
    "val_loss = history1.history['val_loss']\n",
    "\n",
    "epochs_range = range(epochs)\n",
    "\n",
    "plt.figure(figsize=(8, 8))\n",
    "plt.subplot(1, 2, 1)\n",
    "plt.plot(epochs_range, acc, label='Training Accuracy')\n",
    "plt.plot(epochs_range, val_acc, label='Validation Accuracy')\n",
    "plt.legend(loc='lower right')\n",
    "plt.title('Training and Validation Accuracy')\n",
    "\n",
    "plt.subplot(1, 2, 2)\n",
    "plt.plot(epochs_range, loss, label='Training Loss')\n",
    "plt.plot(epochs_range, val_loss, label='Validation Loss')\n",
    "plt.legend(loc='upper right')\n",
    "plt.title('Training and Validation Loss')\n",
    "plt.show()"
   ]
  },
  {
   "cell_type": "code",
   "execution_count": 9,
   "id": "c9d1dd5f-2828-4591-b6de-f7f42541eb56",
   "metadata": {},
   "outputs": [
    {
     "name": "stdout",
     "output_type": "stream",
     "text": [
      "This image most likely belongs to 8 with a 100.00 percent confidence.\n"
     ]
    },
    {
     "data": {
      "image/png": "[encoded data removed]",
      "text/plain": [
       "<Figure size 432x288 with 1 Axes>"
      ]
     },
     "metadata": {
      "needs_background": "light"
     },
     "output_type": "display_data"
    }
   ],
   "source": [
    "# Test the model\n",
    "from PIL import Image\n",
    "\n",
    "img = Image.open('data/n6.jpg')\n",
    "\n",
    "plt.figure()\n",
    "plt.imshow(img)\n",
    "plt.title(\"Testing Sample's Accuracy\")\n",
    "plt.axis(\"off\")\n",
    "plt.show\n",
    "\n",
    "img = img.resize((64, 64))\n",
    "img = img.convert('L')\n",
    "\n",
    "# Preprocessing the image\n",
    "x = image.img_to_array(img)\n",
    "# x = np.true_divide(x, 255)\n",
    "x = np.expand_dims(x, axis=0)\n",
    "\n",
    "model = load_model('cmnist_model_7.h5')    \n",
    "preds = model.predict(x)\n",
    "score = tf.nn.softmax(preds[0])\n",
    "print(\"This image most likely belongs to {} with a {:.2f} percent confidence.\".format(class_names[np.argmax(score)], 100 * np.max(score)))"
   ]
  },
  {
   "cell_type": "code",
   "execution_count": 11,
   "id": "a6db5072",
   "metadata": {},
   "outputs": [],
   "source": [
    "from sklearn.metrics import precision_recall_fscore_support"
   ]
  },
  {
   "cell_type": "markdown",
   "id": "ae4f90f9",
   "metadata": {},
   "source": [
    "## Testing other CNN archituecture as from Literature Review"
   ]
  },
  {
   "cell_type": "code",
   "execution_count": 86,
   "id": "64aa3e02",
   "metadata": {},
   "outputs": [],
   "source": [
    "num_classes = len(class_names)\n",
    "\n",
    "testing_model = tf.keras.Sequential([\n",
    "  tf.keras.layers.Conv2D(filters=64, kernel_size = (3,3), activation=\"relu\", input_shape=(64,64,1)),  \n",
    "  tf.keras.layers.Conv2D(filters=64, kernel_size = (3,3), activation=\"relu\"),\n",
    "  tf.keras.layers.MaxPooling2D(pool_size = (2,2)),\n",
    "  tf.keras.layers.BatchNormalization(), \n",
    "  \n",
    "  tf.keras.layers.Conv2D(filters=128, kernel_size = (3,3), activation=\"relu\"),\n",
    "  tf.keras.layers.Conv2D(filters=128, kernel_size = (3,3), activation=\"relu\"),\n",
    "  tf.keras.layers.MaxPooling2D(pool_size = (2,2)),  \n",
    "  tf.keras.layers.BatchNormalization(),\n",
    "  \n",
    "  tf.keras.layers.Conv2D(filters=256, kernel_size = (3,3), activation=\"relu\"),  \n",
    "  tf.keras.layers.MaxPooling2D(pool_size = (2,2)), \n",
    "  tf.keras.layers.BatchNormalization(),\n",
    "    \n",
    "  tf.keras.layers.Flatten(),\n",
    "  tf.keras.layers.Dense(512,activation = \"relu\"),\n",
    "  tf.keras.layers.Dense(num_classes,activation = \"softmax\")  \n",
    "])\n",
    "\n",
    "testing_model.compile(\n",
    "  optimizer='adam',\n",
    "  loss=tf.keras.losses.SparseCategoricalCrossentropy(from_logits=True),\n",
    "  metrics=['accuracy'])"
   ]
  },
  {
   "cell_type": "code",
   "execution_count": 87,
   "id": "55c70ea4",
   "metadata": {},
   "outputs": [
    {
     "name": "stdout",
     "output_type": "stream",
     "text": [
      "Model: \"sequential_21\"\n",
      "_________________________________________________________________\n",
      " Layer (type)                Output Shape              Param #   \n",
      "=================================================================\n",
      " conv2d_60 (Conv2D)          (None, 62, 62, 64)        640       \n",
      "                                                                 \n",
      " conv2d_61 (Conv2D)          (None, 60, 60, 64)        36928     \n",
      "                                                                 \n",
      " max_pooling2d_42 (MaxPoolin  (None, 30, 30, 64)       0         \n",
      " g2D)                                                            \n",
      "                                                                 \n",
      " batch_normalization_12 (Bat  (None, 30, 30, 64)       256       \n",
      " chNormalization)                                                \n",
      "                                                                 \n",
      " conv2d_62 (Conv2D)          (None, 28, 28, 128)       73856     \n",
      "                                                                 \n",
      " conv2d_63 (Conv2D)          (None, 26, 26, 128)       147584    \n",
      "                                                                 \n",
      " max_pooling2d_43 (MaxPoolin  (None, 13, 13, 128)      0         \n",
      " g2D)                                                            \n",
      "                                                                 \n",
      " batch_normalization_13 (Bat  (None, 13, 13, 128)      512       \n",
      " chNormalization)                                                \n",
      "                                                                 \n",
      " conv2d_64 (Conv2D)          (None, 11, 11, 256)       295168    \n",
      "                                                                 \n",
      " max_pooling2d_44 (MaxPoolin  (None, 5, 5, 256)        0         \n",
      " g2D)                                                            \n",
      "                                                                 \n",
      " batch_normalization_14 (Bat  (None, 5, 5, 256)        1024      \n",
      " chNormalization)                                                \n",
      "                                                                 \n",
      " flatten_21 (Flatten)        (None, 6400)              0         \n",
      "                                                                 \n",
      " dense_38 (Dense)            (None, 512)               3277312   \n",
      "                                                                 \n",
      " dense_39 (Dense)            (None, 15)                7695      \n",
      "                                                                 \n",
      "=================================================================\n",
      "Total params: 3,840,975\n",
      "Trainable params: 3,840,079\n",
      "Non-trainable params: 896\n",
      "_________________________________________________________________\n"
     ]
    }
   ],
   "source": [
    "testing_model.summary()"
   ]
  },
  {
   "cell_type": "code",
   "execution_count": null,
   "id": "74c7538b",
   "metadata": {},
   "outputs": [
    {
     "name": "stdout",
     "output_type": "stream",
     "text": [
      "Epoch 1/10\n"
     ]
    },
    {
     "name": "stderr",
     "output_type": "stream",
     "text": [
      "/Users/kimhoonglim/opt/anaconda3/lib/python3.8/site-packages/tensorflow/python/util/dispatch.py:1096: UserWarning: \"`sparse_categorical_crossentropy` received `from_logits=True`, but the `output` argument was produced by a sigmoid or softmax activation and thus does not represent logits. Was this intended?\"\n",
      "  return dispatch_target(*args, **kwargs)\n"
     ]
    },
    {
     "name": "stdout",
     "output_type": "stream",
     "text": [
      "375/375 [==============================] - 405s 1s/step - loss: 0.4488 - accuracy: 0.8762 - val_loss: 0.1862 - val_accuracy: 0.9533\n",
      "Epoch 2/10\n",
      "375/375 [==============================] - 387s 1s/step - loss: 0.0904 - accuracy: 0.9736 - val_loss: 0.1379 - val_accuracy: 0.9597\n",
      "Epoch 3/10\n",
      "375/375 [==============================] - 387s 1s/step - loss: 0.0689 - accuracy: 0.9799 - val_loss: 0.1705 - val_accuracy: 0.9587\n",
      "Epoch 4/10\n",
      "375/375 [==============================] - 3641s 10s/step - loss: 0.0522 - accuracy: 0.9853 - val_loss: 0.1094 - val_accuracy: 0.9770\n",
      "Epoch 5/10\n",
      "375/375 [==============================] - 371s 990ms/step - loss: 0.0547 - accuracy: 0.9857 - val_loss: 0.2237 - val_accuracy: 0.9583\n",
      "Epoch 6/10\n",
      "125/375 [=========>....................] - ETA: 36:17:35 - loss: 0.0725 - accuracy: 0.9852"
     ]
    }
   ],
   "source": [
    "epoch = 10\n",
    "\n",
    "testing_history = testing_model.fit(\n",
    "    train_ds,\n",
    "    validation_data = val_ds,\n",
    "    epochs=epoch)"
   ]
  }
 ],
 "metadata": {
  "kernelspec": {
   "display_name": "Python 3 (ipykernel)",
   "language": "python",
   "name": "python3"
  },
  "language_info": {
   "codemirror_mode": {
    "name": "ipython",
    "version": 3
   },
   "file_extension": ".py",
   "mimetype": "text/x-python",
   "name": "python",
   "nbconvert_exporter": "python",
   "pygments_lexer": "ipython3",
   "version": "3.10.9"
  }
 },
 "nbformat": 4,
 "nbformat_minor": 5
}
