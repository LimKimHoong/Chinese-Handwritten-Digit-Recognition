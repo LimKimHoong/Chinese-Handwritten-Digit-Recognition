{
 "cells": [
  {
   "cell_type": "code",
   "execution_count": 1,
   "id": "05f43b13-1e7f-46c9-beb3-5680dd51b389",
   "metadata": {},
   "outputs": [],
   "source": [
    "import numpy as np\n",
    "import matplotlib.pyplot as plt\n",
    "import pandas as pd\n",
    "from sklearn.model_selection import train_test_split\n",
    "import seaborn as sns\n",
    "from pandas import set_option\n",
    "from pandas.plotting import scatter_matrix\n",
    "from sklearn.preprocessing import StandardScaler\n",
    "from sklearn.model_selection import KFold\n",
    "from sklearn.model_selection import StratifiedKFold\n",
    "from sklearn.model_selection import cross_val_score\n",
    "from sklearn.model_selection import GridSearchCV\n",
    "from sklearn.metrics import classification_report\n",
    "from sklearn.metrics import confusion_matrix\n",
    "from sklearn.metrics import accuracy_score\n",
    "from sklearn.pipeline import Pipeline\n",
    "from sklearn.linear_model import LogisticRegression\n",
    "from sklearn.tree import DecisionTreeClassifier\n",
    "from sklearn.neighbors import KNeighborsClassifier\n",
    "from sklearn.discriminant_analysis import LinearDiscriminantAnalysis\n",
    "from sklearn.naive_bayes import GaussianNB\n",
    "from sklearn.svm import SVC\n",
    "from sklearn.ensemble import AdaBoostClassifier\n",
    "from sklearn.ensemble import GradientBoostingClassifier\n",
    "from sklearn.ensemble import RandomForestClassifier\n",
    "from sklearn.ensemble import ExtraTreesClassifier\n",
    "from sklearn.metrics import precision_recall_fscore_support\n",
    "from sklearn.metrics import f1_score\n",
    "from sklearn.metrics import roc_auc_score\n",
    "\n",
    "import plotly.offline as py\n",
    "import plotly.graph_objs as go\n",
    "\n",
    "import time"
   ]
  },
  {
   "cell_type": "code",
   "execution_count": 2,
   "id": "31c520fa-8296-418f-89f8-c63e29e75098",
   "metadata": {},
   "outputs": [
    {
     "name": "stdout",
     "output_type": "stream",
     "text": [
      "Rows and Columns of Raw Data : (15000, 4098)\n"
     ]
    }
   ],
   "source": [
    "df = pd.read_csv('chineseMNIST.csv')\n",
    "\n",
    "print(\"Rows and Columns of Raw Data :\",df.to_numpy().shape)"
   ]
  },
  {
   "cell_type": "code",
   "execution_count": 3,
   "id": "eca8ec79-81cd-4367-a4c2-12a6b72d7b32",
   "metadata": {},
   "outputs": [
    {
     "name": "stdout",
     "output_type": "stream",
     "text": [
      "Rows and Columns of Raw Data : (15000, 4096)\n"
     ]
    }
   ],
   "source": [
    "#df['label'].replace(100,11,inplace=True)\n",
    "#df['label'].replace(1000,12,inplace=True)\n",
    "#df['label'].replace(10000,13,inplace=True)\n",
    "#df['label'].replace(100000000,14,inplace=True)\n",
    "\n",
    "labels = df['label']\n",
    "\n",
    "df.drop(['label'], axis=1, inplace=True)\n",
    "df.drop(['character'], axis=1, inplace=True)\n",
    "print(\"Rows and Columns of Raw Data :\",df.to_numpy().shape)"
   ]
  },
  {
   "cell_type": "code",
   "execution_count": 4,
   "id": "9f86a3e5-9414-4500-9467-a155d22fa6e6",
   "metadata": {},
   "outputs": [],
   "source": [
    "dataset = df.to_numpy()\n",
    "labels = labels.to_numpy()\n",
    "\n",
    "x_train, x_test, y_train, y_test = train_test_split(dataset, \n",
    "                                                    labels, \n",
    "                                                    test_size=0.2, \n",
    "                                                    random_state=42)"
   ]
  },
  {
   "cell_type": "code",
   "execution_count": 5,
   "id": "9a2003f2-78f2-4a8a-bf1d-efb3d0874982",
   "metadata": {},
   "outputs": [],
   "source": [
    "def visualisation(data1,data2):\n",
    "    # to view a sample of image in the data\n",
    "    data1 = data1.reshape(12000,64,64,1)\n",
    "    data1 = data1.astype('float32') / 255.0\n",
    "    \n",
    "    f, ax = plt.subplots(2,5) \n",
    "    f.set_size_inches(10, 10)\n",
    "    f.suptitle(\"10 Sample of Image\", fontsize=20)\n",
    "    k = 0\n",
    "    for i in range(2):\n",
    "        for j in range(5):\n",
    "            ax[i,j].imshow(data1[k])\n",
    "            ax[i,j].title.set_text(data2[k])\n",
    "            k += 1\n",
    "    plt.tight_layout()   \n",
    "    \n",
    "    return "
   ]
  },
  {
   "cell_type": "code",
   "execution_count": 6,
   "id": "cca80f37-62b2-445f-a7de-c1f3651e095a",
   "metadata": {},
   "outputs": [],
   "source": [
    "# visualisation(x_train,y_train)"
   ]
  },
  {
   "cell_type": "code",
   "execution_count": 6,
   "id": "893695cf-4250-4401-a245-826d29ea8282",
   "metadata": {},
   "outputs": [],
   "source": [
    "def visualisation1(data):\n",
    "    # to view the count of dependent variable in data\n",
    "    # we have balanced dataset \n",
    "    plt.figure(figsize = (10,10))\n",
    "    sns.set_style(\"darkgrid\")\n",
    "    \n",
    "    sns.countplot(data).set(title='Count of Dependent Variable')\n",
    "    \n",
    "    return "
   ]
  },
  {
   "cell_type": "code",
   "execution_count": 8,
   "id": "28a22670-c61f-4066-8246-c3aa85f11927",
   "metadata": {},
   "outputs": [],
   "source": [
    "# visualisation1(labels)"
   ]
  },
  {
   "cell_type": "code",
   "execution_count": 7,
   "id": "0fd1a700-e909-4e3b-bc84-a2ca22e6153c",
   "metadata": {},
   "outputs": [],
   "source": [
    "def GetBasedModel():\n",
    "    \n",
    "    basedModels = []\n",
    "    basedModels.append(('LR', LogisticRegression(solver='sag')))\n",
    "    basedModels.append(('LDA'  , LinearDiscriminantAnalysis()))\n",
    "    basedModels.append(('KNN'  , KNeighborsClassifier()))\n",
    "    basedModels.append(('CART' , DecisionTreeClassifier()))\n",
    "    basedModels.append(('NB'   , GaussianNB()))\n",
    "    basedModels.append(('SVM'  , SVC(probability=True)))\n",
    "    basedModels.append(('AB'   , AdaBoostClassifier()))\n",
    "    basedModels.append(('GBM'  , GradientBoostingClassifier()))\n",
    "    basedModels.append(('RF'   , RandomForestClassifier()))\n",
    "    basedModels.append(('ET'   , ExtraTreesClassifier()))\n",
    "    \n",
    "    return basedModels"
   ]
  },
  {
   "cell_type": "code",
   "execution_count": 8,
   "id": "57228b32-4289-4e8b-8d62-2820ac5e7f36",
   "metadata": {},
   "outputs": [],
   "source": [
    "def BasedLine2(x_train, y_train,models):\n",
    "    # Test options and evaluation metric\n",
    "    \n",
    "    results = []\n",
    "    names = []\n",
    "    times = []\n",
    "    measure = []\n",
    "    f_measure = [] \n",
    "    auc = []\n",
    "    for name, model in models:\n",
    "        \n",
    "        start_time = time.time()\n",
    "        model.fit(x_train,y_train)\n",
    "        predictions = model.predict(x_test)\n",
    "        accuracy = accuracy_score(y_test, predictions)\n",
    "        measurement = precision_recall_fscore_support(y_test, predictions, average='weighted')\n",
    "        f = f1_score(y_test, predictions, average='weighted')\n",
    "        auc_score = roc_auc_score(y_test, model.predict_proba(x_test), multi_class='ovr')\n",
    "        results.append(accuracy)\n",
    "        measure.append(measurement)\n",
    "        f_measure.append(f)\n",
    "        auc.append(auc_score)\n",
    "        names.append(name)\n",
    "        end_time = time.time()\n",
    "        times.append((end_time - start_time))\n",
    "        msg = \"%s: %.2f (%.2s seconds)\" % (name, accuracy, (end_time - start_time))\n",
    "        print(msg)\n",
    "\n",
    "    return names, results, times, measure, f_measure, auc"
   ]
  },
  {
   "cell_type": "code",
   "execution_count": 9,
   "id": "e280f7b9-4425-456a-8612-8a0e7ecb69e8",
   "metadata": {},
   "outputs": [],
   "source": [
    "def ScoreDataFrame(names,results,times):\n",
    "    def floatingDecimals(f_val, dec=3):\n",
    "        prc = \"{:.\"+str(dec)+\"f}\" \n",
    "    \n",
    "        return float(prc.format(f_val))\n",
    "\n",
    "    scores = []\n",
    "    for r in results:\n",
    "        scores.append(floatingDecimals(r.mean(),4))\n",
    "\n",
    "    scoreDataFrame = pd.DataFrame({'Model':names, 'Score': scores,'Time':times})\n",
    "    return scoreDataFrame"
   ]
  },
  {
   "cell_type": "code",
   "execution_count": 10,
   "id": "5a232d46-caf2-435d-82f6-a88951fc9c20",
   "metadata": {},
   "outputs": [
    {
     "name": "stderr",
     "output_type": "stream",
     "text": [
      "C:\\ProgramData\\Anaconda3\\lib\\site-packages\\sklearn\\linear_model\\_sag.py:352: ConvergenceWarning:\n",
      "\n",
      "The max_iter was reached which means the coef_ did not converge\n",
      "\n"
     ]
    },
    {
     "name": "stdout",
     "output_type": "stream",
     "text": [
      "LR: 0.39 (23 seconds)\n",
      "LDA: 0.38 (49 seconds)\n",
      "KNN: 0.40 (8. seconds)\n",
      "CART: 0.34 (7. seconds)\n",
      "NB: 0.24 (4. seconds)\n",
      "SVM: 0.72 (34 seconds)\n",
      "AB: 0.25 (52 seconds)\n",
      "GBM: 0.58 (49 seconds)\n",
      "RF: 0.61 (26 seconds)\n",
      "ET: 0.70 (34 seconds)\n",
      "Done\n"
     ]
    }
   ],
   "source": [
    "models = GetBasedModel()\n",
    "option_model,option_result, time_taken , result_4 ,result_f , result_AUC= BasedLine2(x_train, y_train,models)\n",
    "print('Done')\n",
    "basedLineScore = ScoreDataFrame(option_model,option_result,time_taken)\n",
    "print(basedLineScore)\n",
    "print('Completed')"
   ]
  },
  {
   "cell_type": "code",
   "execution_count": 11,
   "id": "43c038f7-6ef9-467a-8d81-bc0a81b7e48d",
   "metadata": {},
   "outputs": [
    {
     "data": {
      "text/plain": [
       "[(0.3866287760624562, 0.3903333333333333, 0.3866776311656264, None),\n",
       " (0.3836911410154583, 0.37733333333333335, 0.37143667637582184, None),\n",
       " (0.5954817137853705, 0.398, 0.41724221532817546, None),\n",
       " (0.3267274190605826, 0.335, 0.3295050948950002, None),\n",
       " (0.3405846326238808, 0.23966666666666667, 0.1975997950547864, None),\n",
       " (0.7254058170722139, 0.718, 0.7156461696815752, None),\n",
       " (0.23644063931002718, 0.24666666666666667, 0.23266341942575608, None),\n",
       " (0.5823797457686141, 0.5813333333333334, 0.5765507083296516, None),\n",
       " (0.6078705776241754, 0.6066666666666667, 0.5996475015431758, None),\n",
       " (0.7088880695515237, 0.7013333333333334, 0.6973859998113573, None)]"
      ]
     },
     "execution_count": 11,
     "metadata": {},
     "output_type": "execute_result"
    }
   ],
   "source": [
    "result_4"
   ]
  },
  {
   "cell_type": "code",
   "execution_count": 12,
   "id": "6d8286a6",
   "metadata": {},
   "outputs": [
    {
     "data": {
      "text/plain": [
       "[0.3866776311656264,\n",
       " 0.37143667637582184,\n",
       " 0.41724221532817546,\n",
       " 0.3295050948950002,\n",
       " 0.1975997950547864,\n",
       " 0.7156461696815752,\n",
       " 0.23266341942575608,\n",
       " 0.5765507083296516,\n",
       " 0.5996475015431758,\n",
       " 0.6973859998113573]"
      ]
     },
     "execution_count": 12,
     "metadata": {},
     "output_type": "execute_result"
    }
   ],
   "source": [
    "result_f"
   ]
  },
  {
   "cell_type": "code",
   "execution_count": 13,
   "id": "76dd9383",
   "metadata": {},
   "outputs": [
    {
     "data": {
      "text/plain": [
       "[0.8088554720430509,\n",
       " 0.7587558906256999,\n",
       " 0.83558099126386,\n",
       " 0.6468092273163325,\n",
       " 0.6175290102919263,\n",
       " 0.9582012310271659,\n",
       " 0.715512295873836,\n",
       " 0.9197868318018855,\n",
       " 0.9320825477439344,\n",
       " 0.9543996196450825]"
      ]
     },
     "execution_count": 13,
     "metadata": {},
     "output_type": "execute_result"
    }
   ],
   "source": [
    "result_AUC"
   ]
  },
  {
   "cell_type": "code",
   "execution_count": 14,
   "id": "fd3db7c6-030d-4b13-9229-f15dc35663da",
   "metadata": {},
   "outputs": [
    {
     "data": {
      "text/plain": [
       "[232.04332304000854,\n",
       " 49.242473125457764,\n",
       " 8.49470067024231,\n",
       " 7.196629524230957,\n",
       " 4.5453941822052,\n",
       " 3446.116340637207,\n",
       " 52.549927949905396,\n",
       " 4915.511994123459,\n",
       " 26.406840324401855,\n",
       " 34.9475781917572]"
      ]
     },
     "execution_count": 14,
     "metadata": {},
     "output_type": "execute_result"
    }
   ],
   "source": [
    "time_taken"
   ]
  },
  {
   "cell_type": "code",
   "execution_count": 15,
   "id": "853bf5ff-4084-47af-9811-e584738a6471",
   "metadata": {},
   "outputs": [
    {
     "data": {
      "text/plain": [
       "[0.3903333333333333,\n",
       " 0.37733333333333335,\n",
       " 0.398,\n",
       " 0.335,\n",
       " 0.23966666666666667,\n",
       " 0.718,\n",
       " 0.24666666666666667,\n",
       " 0.5813333333333334,\n",
       " 0.6066666666666667,\n",
       " 0.7013333333333334]"
      ]
     },
     "execution_count": 15,
     "metadata": {},
     "output_type": "execute_result"
    }
   ],
   "source": [
    "option_result"
   ]
  },
  {
   "cell_type": "code",
   "execution_count": 16,
   "id": "864238c5-cc36-48fb-895b-941b4a83ad47",
   "metadata": {},
   "outputs": [
    {
     "data": {
      "text/plain": [
       "['LR', 'LDA', 'KNN', 'CART', 'NB', 'SVM', 'AB', 'GBM', 'RF', 'ET']"
      ]
     },
     "execution_count": 16,
     "metadata": {},
     "output_type": "execute_result"
    }
   ],
   "source": [
    "option_model"
   ]
  },
  {
   "cell_type": "code",
   "execution_count": null,
   "id": "ea6e2f9f-a1f3-40ff-9896-f7e1ede01878",
   "metadata": {},
   "outputs": [],
   "source": []
  }
 ],
 "metadata": {
  "kernelspec": {
   "display_name": "Python 3",
   "language": "python",
   "name": "python3"
  },
  "language_info": {
   "codemirror_mode": {
    "name": "ipython",
    "version": 3
   },
   "file_extension": ".py",
   "mimetype": "text/x-python",
   "name": "python",
   "nbconvert_exporter": "python",
   "pygments_lexer": "ipython3",
   "version": "3.8.8"
  }
 },
 "nbformat": 4,
 "nbformat_minor": 5
}
